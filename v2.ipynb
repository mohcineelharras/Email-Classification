{
 "cells": [
  {
   "cell_type": "code",
   "execution_count": 7,
   "metadata": {},
   "outputs": [
    {
     "data": {
      "application/javascript": [
       "\n",
       "        if (window._pyforest_update_imports_cell) { window._pyforest_update_imports_cell('import matplotlib.pyplot as plt\\nimport pandas as pd'); }\n",
       "    "
      ],
      "text/plain": [
       "<IPython.core.display.Javascript object>"
      ]
     },
     "metadata": {},
     "output_type": "display_data"
    },
    {
     "data": {
      "application/javascript": [
       "\n",
       "        if (window._pyforest_update_imports_cell) { window._pyforest_update_imports_cell('import matplotlib.pyplot as plt\\nimport pandas as pd'); }\n",
       "    "
      ],
      "text/plain": [
       "<IPython.core.display.Javascript object>"
      ]
     },
     "metadata": {},
     "output_type": "display_data"
    },
    {
     "name": "stdout",
     "output_type": "stream",
     "text": [
      "(25066, 12) (10745, 12) (25066,)\n"
     ]
    }
   ],
   "source": [
    "## Read csvs\n",
    "train_df = pd.read_csv('train.csv', index_col=0)\n",
    "test_df = pd.read_csv('test.csv', index_col=0)\n",
    "#Create dftrain and test\n",
    "y_train=train_df[\"label\"]\n",
    "X_train=train_df.drop(\"label\",axis=1)\n",
    "X_test=test_df\n",
    "print(X_train.shape,X_test.shape,y_train.shape)"
   ]
  },
  {
   "cell_type": "code",
   "execution_count": 11,
   "metadata": {},
   "outputs": [
    {
     "data": {
      "application/javascript": [
       "\n",
       "        if (window._pyforest_update_imports_cell) { window._pyforest_update_imports_cell('import matplotlib.pyplot as plt\\nimport pandas as pd'); }\n",
       "    "
      ],
      "text/plain": [
       "<IPython.core.display.Javascript object>"
      ]
     },
     "metadata": {},
     "output_type": "display_data"
    },
    {
     "data": {
      "text/plain": [
       "(35811, 12)"
      ]
     },
     "execution_count": 11,
     "metadata": {},
     "output_type": "execute_result"
    }
   ],
   "source": [
    "#Merge 2 daframes for exploration and cleaning\n",
    "df=pd.concat([X_train,X_test],axis=0)\n",
    "print(df.shape)"
   ]
  },
  {
   "cell_type": "code",
   "execution_count": null,
   "metadata": {},
   "outputs": [],
   "source": []
  },
  {
   "cell_type": "code",
   "execution_count": 50,
   "metadata": {},
   "outputs": [
    {
     "data": {
      "text/html": [
       "<div>\n",
       "<style scoped>\n",
       "    .dataframe tbody tr th:only-of-type {\n",
       "        vertical-align: middle;\n",
       "    }\n",
       "\n",
       "    .dataframe tbody tr th {\n",
       "        vertical-align: top;\n",
       "    }\n",
       "\n",
       "    .dataframe thead th {\n",
       "        text-align: right;\n",
       "    }\n",
       "</style>\n",
       "<table border=\"1\" class=\"dataframe\">\n",
       "  <thead>\n",
       "    <tr style=\"text-align: right;\">\n",
       "      <th></th>\n",
       "      <th>ccs</th>\n",
       "      <th>bcced</th>\n",
       "      <th>images</th>\n",
       "      <th>urls</th>\n",
       "      <th>salutations</th>\n",
       "      <th>designation</th>\n",
       "      <th>chars_in_subject</th>\n",
       "      <th>chars_in_body</th>\n",
       "    </tr>\n",
       "  </thead>\n",
       "  <tbody>\n",
       "    <tr>\n",
       "      <td>count</td>\n",
       "      <td>35811.000000</td>\n",
       "      <td>35811.000000</td>\n",
       "      <td>35811.000000</td>\n",
       "      <td>35811.000000</td>\n",
       "      <td>35811.000000</td>\n",
       "      <td>35811.000000</td>\n",
       "      <td>35811.000000</td>\n",
       "      <td>3.581100e+04</td>\n",
       "    </tr>\n",
       "    <tr>\n",
       "      <td>mean</td>\n",
       "      <td>0.405434</td>\n",
       "      <td>0.001117</td>\n",
       "      <td>7.625702</td>\n",
       "      <td>39.748904</td>\n",
       "      <td>0.376728</td>\n",
       "      <td>0.108347</td>\n",
       "      <td>55.663874</td>\n",
       "      <td>1.222382e+05</td>\n",
       "    </tr>\n",
       "    <tr>\n",
       "      <td>std</td>\n",
       "      <td>3.165837</td>\n",
       "      <td>0.033403</td>\n",
       "      <td>10.674728</td>\n",
       "      <td>58.225591</td>\n",
       "      <td>0.484573</td>\n",
       "      <td>0.310822</td>\n",
       "      <td>33.883961</td>\n",
       "      <td>1.285199e+06</td>\n",
       "    </tr>\n",
       "    <tr>\n",
       "      <td>min</td>\n",
       "      <td>0.000000</td>\n",
       "      <td>0.000000</td>\n",
       "      <td>0.000000</td>\n",
       "      <td>0.000000</td>\n",
       "      <td>0.000000</td>\n",
       "      <td>0.000000</td>\n",
       "      <td>0.000000</td>\n",
       "      <td>4.000000e+00</td>\n",
       "    </tr>\n",
       "    <tr>\n",
       "      <td>25%</td>\n",
       "      <td>0.000000</td>\n",
       "      <td>0.000000</td>\n",
       "      <td>0.000000</td>\n",
       "      <td>5.000000</td>\n",
       "      <td>0.000000</td>\n",
       "      <td>0.000000</td>\n",
       "      <td>35.000000</td>\n",
       "      <td>5.896500e+03</td>\n",
       "    </tr>\n",
       "    <tr>\n",
       "      <td>50%</td>\n",
       "      <td>0.000000</td>\n",
       "      <td>0.000000</td>\n",
       "      <td>4.000000</td>\n",
       "      <td>20.000000</td>\n",
       "      <td>0.000000</td>\n",
       "      <td>0.000000</td>\n",
       "      <td>47.000000</td>\n",
       "      <td>2.362100e+04</td>\n",
       "    </tr>\n",
       "    <tr>\n",
       "      <td>75%</td>\n",
       "      <td>0.000000</td>\n",
       "      <td>0.000000</td>\n",
       "      <td>11.000000</td>\n",
       "      <td>53.000000</td>\n",
       "      <td>1.000000</td>\n",
       "      <td>0.000000</td>\n",
       "      <td>66.000000</td>\n",
       "      <td>4.989250e+04</td>\n",
       "    </tr>\n",
       "    <tr>\n",
       "      <td>max</td>\n",
       "      <td>179.000000</td>\n",
       "      <td>1.000000</td>\n",
       "      <td>200.000000</td>\n",
       "      <td>5532.000000</td>\n",
       "      <td>1.000000</td>\n",
       "      <td>1.000000</td>\n",
       "      <td>606.000000</td>\n",
       "      <td>6.076911e+07</td>\n",
       "    </tr>\n",
       "  </tbody>\n",
       "</table>\n",
       "</div>"
      ],
      "text/plain": [
       "                ccs         bcced        images          urls   salutations  \\\n",
       "count  35811.000000  35811.000000  35811.000000  35811.000000  35811.000000   \n",
       "mean       0.405434      0.001117      7.625702     39.748904      0.376728   \n",
       "std        3.165837      0.033403     10.674728     58.225591      0.484573   \n",
       "min        0.000000      0.000000      0.000000      0.000000      0.000000   \n",
       "25%        0.000000      0.000000      0.000000      5.000000      0.000000   \n",
       "50%        0.000000      0.000000      4.000000     20.000000      0.000000   \n",
       "75%        0.000000      0.000000     11.000000     53.000000      1.000000   \n",
       "max      179.000000      1.000000    200.000000   5532.000000      1.000000   \n",
       "\n",
       "        designation  chars_in_subject  chars_in_body  \n",
       "count  35811.000000      35811.000000   3.581100e+04  \n",
       "mean       0.108347         55.663874   1.222382e+05  \n",
       "std        0.310822         33.883961   1.285199e+06  \n",
       "min        0.000000          0.000000   4.000000e+00  \n",
       "25%        0.000000         35.000000   5.896500e+03  \n",
       "50%        0.000000         47.000000   2.362100e+04  \n",
       "75%        0.000000         66.000000   4.989250e+04  \n",
       "max        1.000000        606.000000   6.076911e+07  "
      ]
     },
     "execution_count": 50,
     "metadata": {},
     "output_type": "execute_result"
    }
   ],
   "source": [
    "#Columns :['date', 'org', 'tld', 'ccs', 'bcced', 'mail_type', 'images',\n",
    "#'urls','salutations', 'designation', 'chars_in_subject', 'chars_in_body']\n",
    "#Numerical images, urls, css, chars_in_subject, chars_in_body\n",
    "#Binary org,tld,css,bcced, designation, salutations\n",
    "#Categorical org, tld, mail_type\n",
    "df.describe()"
   ]
  },
  {
   "cell_type": "markdown",
   "metadata": {},
   "source": [
    "## Cleaning"
   ]
  },
  {
   "cell_type": "code",
   "execution_count": 57,
   "metadata": {},
   "outputs": [],
   "source": [
    "#Categorical org, tld, mail_type\n",
    "df.org=df.org.str.lower()\n",
    "df.tld=df.tld.str.lower()\n",
    "df.mail_type=df.mail_type.str.lower()\n"
   ]
  },
  {
   "cell_type": "code",
   "execution_count": 58,
   "metadata": {},
   "outputs": [
    {
     "data": {
      "application/javascript": [
       "\n",
       "        if (window._pyforest_update_imports_cell) { window._pyforest_update_imports_cell('import seaborn as sns\\nimport matplotlib.pyplot as plt\\nimport pandas as pd'); }\n",
       "    "
      ],
      "text/plain": [
       "<IPython.core.display.Javascript object>"
      ]
     },
     "metadata": {},
     "output_type": "display_data"
    }
   ],
   "source": [
    "#filter org\n",
    "p=pd.DataFrame(X_train.org.value_counts())\n",
    "listofallorg=list(p.index)\n",
    "freq_org=['iiitd', 'usebackpack', 'amazon', 'google', 'quora', 'linkedin', 'twitter', 'nrsc', 'youtube', 'topcoder', 'udacity', 'flipkartletters', 'github', 'centralesupelec', 'medium', 'reply', 'nvidia', 'mailer', 'hackerearth', 'sbi', 'coursera', 'newsletter', 'mail', 'sampark', 'm', 'redwolf', 'kaggle', 'hackerrankmail', 'send', 'ieee', 'duolingo', 'news', 'indiatimes', 'email', 'e', 'springboard', 'piazza', 'academia-mail', 'statebankrewardz', 'slack', 'edm', 'angel', 'mentor', 'researchgatemail', 'repositoryhosting', 'gmail', 'thomascook', 'researchgate', 'airtable', 'edx', 'brilliant', 'discuss', 'kotak', 'innerchef', 'notifications', 'cocubes', 'mapbox', 'marketing', 'messages', 'bigbasket', 'signalprocessingsociety', 'zoomgroup', 'magento', 'imdb', 'mails', 'olacabs', 'iheartdogs-email', 'info', 'crazydomains', 'entertainment', 'datacamp', 'primevideo', 'hackerrank', 'splitwise', 'htc', 'state', 'inoxmovies', 'dropbox', 'updates', 'crm', 'usief', 'pvrcinemas', 'emails', 'phonepe', 'codecademy', 'e-mail', 'plus', 'dropboxmail', 'khanacademy', 'classroom', 'xprize', 'symless', 'rs-components', 'freshersworld', 'codalab', 'doodle', 'internations', 'neo4j', 'accountprotection', 'newsgram', 'flipkart', 'ruprr', 'nedm', 'asuswebstorage', 'facebookmail', 'donate', 'accounts', 'paytmemail', 'overleaf', 'codeschool', 'makemytrip', 'dailyspeak', 'glassdoor', 'teamviewer', 'mp1', 'deeplearning', 'trello', 'entropay', 'rapidapi', 'paytm']\n",
    "notwantedorg=list(set(listofallorg)-set(freq_org))\n",
    "#Replace org\n",
    "df[\"org\"]=df[\"org\"].replace(notwantedorg, 'rare')"
   ]
  },
  {
   "cell_type": "code",
   "execution_count": null,
   "metadata": {},
   "outputs": [],
   "source": []
  },
  {
   "cell_type": "code",
   "execution_count": null,
   "metadata": {},
   "outputs": [],
   "source": []
  },
  {
   "cell_type": "code",
   "execution_count": 60,
   "metadata": {},
   "outputs": [
    {
     "name": "stdout",
     "output_type": "stream",
     "text": [
      "iiitd                      4388\n",
      "usebackpack                1789\n",
      "rare                       1701\n",
      "amazon                     1620\n",
      "google                     1141\n",
      "quora                       980\n",
      "linkedin                    978\n",
      "twitter                     897\n",
      "nrsc                        600\n",
      "youtube                     445\n",
      "topcoder                    400\n",
      "udacity                     351\n",
      "flipkartletters             341\n",
      "github                      313\n",
      "centralesupelec             306\n",
      "medium                      250\n",
      "reply                       240\n",
      "nvidia                      233\n",
      "mailer                      230\n",
      "hackerearth                 211\n",
      "sbi                         206\n",
      "coursera                    192\n",
      "newsletter                  186\n",
      "mail                        185\n",
      "sampark                     176\n",
      "m                           173\n",
      "kaggle                      169\n",
      "redwolf                     169\n",
      "hackerrankmail              160\n",
      "send                        157\n",
      "ieee                        148\n",
      "duolingo                    140\n",
      "news                        136\n",
      "indiatimes                  126\n",
      "email                       123\n",
      "e                           119\n",
      "springboard                 111\n",
      "piazza                      109\n",
      "academia-mail               101\n",
      "statebankrewardz             98\n",
      "slack                        96\n",
      "edm                          93\n",
      "angel                        92\n",
      "repositoryhosting            89\n",
      "researchgatemail             89\n",
      "mentor                       89\n",
      "gmail                        87\n",
      "thomascook                   82\n",
      "researchgate                 80\n",
      "airtable                     75\n",
      "edx                          72\n",
      "brilliant                    67\n",
      "discuss                      66\n",
      "notifications                65\n",
      "kotak                        65\n",
      "innerchef                    65\n",
      "cocubes                      64\n",
      "mapbox                       62\n",
      "messages                     59\n",
      "marketing                    59\n",
      "zoomgroup                    58\n",
      "bigbasket                    58\n",
      "signalprocessingsociety      58\n",
      "magento                      57\n",
      "imdb                         56\n",
      "mails                        53\n",
      "olacabs                      53\n",
      "info                         51\n",
      "iheartdogs-email             51\n",
      "crazydomains                 51\n",
      "entertainment                50\n",
      "primevideo                   49\n",
      "datacamp                     49\n",
      "splitwise                    47\n",
      "hackerrank                   47\n",
      "htc                          46\n",
      "inoxmovies                   44\n",
      "state                        44\n",
      "dropbox                      44\n",
      "updates                      42\n",
      "crm                          41\n",
      "pvrcinemas                   40\n",
      "usief                        40\n",
      "emails                       39\n",
      "codecademy                   38\n",
      "phonepe                      38\n",
      "e-mail                       37\n",
      "plus                         34\n",
      "dropboxmail                  33\n",
      "khanacademy                  33\n",
      "classroom                    32\n",
      "xprize                       31\n",
      "symless                      30\n",
      "codalab                      29\n",
      "freshersworld                29\n",
      "rs-components                29\n",
      "doodle                       29\n",
      "internations                 28\n",
      "neo4j                        28\n",
      "accountprotection            26\n",
      "ruprr                        25\n",
      "flipkart                     25\n",
      "newsgram                     25\n",
      "nedm                         25\n",
      "asuswebstorage               25\n",
      "donate                       24\n",
      "facebookmail                 24\n",
      "accounts                     23\n",
      "overleaf                     23\n",
      "makemytrip                   23\n",
      "codeschool                   23\n",
      "paytmemail                   23\n",
      "dailyspeak                   22\n",
      "glassdoor                    22\n",
      "trello                       21\n",
      "mp1                          21\n",
      "entropay                     21\n",
      "deeplearning                 21\n",
      "teamviewer                   21\n",
      "rapidapi                     20\n",
      "paytm                        20\n"
     ]
    }
   ],
   "source": [
    "print(df.iloc[0:25066,:].org.value_counts().to_string())"
   ]
  },
  {
   "cell_type": "markdown",
   "metadata": {},
   "source": [
    "## Exploration"
   ]
  },
  {
   "cell_type": "code",
   "execution_count": 55,
   "metadata": {},
   "outputs": [],
   "source": [
    "#sns.set(rc={'figure.figsize':(11.7,8.27)})\n",
    "#sns.boxplot(x=df.iloc[0:25066,:].org,y=y_train)"
   ]
  },
  {
   "cell_type": "code",
   "execution_count": null,
   "metadata": {},
   "outputs": [],
   "source": []
  }
 ],
 "metadata": {
  "kernelspec": {
   "display_name": "Python 3",
   "language": "python",
   "name": "python3"
  },
  "language_info": {
   "codemirror_mode": {
    "name": "ipython",
    "version": 3
   },
   "file_extension": ".py",
   "mimetype": "text/x-python",
   "name": "python",
   "nbconvert_exporter": "python",
   "pygments_lexer": "ipython3",
   "version": "3.7.4"
  }
 },
 "nbformat": 4,
 "nbformat_minor": 4
}
